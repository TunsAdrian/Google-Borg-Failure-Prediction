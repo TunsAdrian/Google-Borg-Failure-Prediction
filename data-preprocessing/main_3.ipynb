{
 "cells": [
  {
   "cell_type": "code",
   "execution_count": 1,
   "metadata": {
    "collapsed": true,
    "ExecuteTime": {
     "end_time": "2023-06-16T12:24:31.914266700Z",
     "start_time": "2023-06-16T12:24:27.376494900Z"
    }
   },
   "outputs": [],
   "source": [
    "import findspark\n",
    "\n",
    "findspark.init()\n",
    "\n",
    "from pyspark import SparkContext\n",
    "from pyspark.sql import SparkSession\n",
    "\n",
    "spark = SparkSession.builder.appName('Failure Prediction on Google Borg Cluster Traces').master('local[*]').getOrCreate()\n",
    "SparkContext.setSystemProperty('spark.executor.memory', '2g')\n",
    "SparkContext.setSystemProperty('spark.driver.memory', '2g')\n",
    "\n",
    "job_ids_to_remove_df = spark.read.parquet(\"./intermediary_data/job_ids_to_remove.parquet\")\n",
    "jobs_with_type_df = spark.read.parquet(\"./intermediary_data/jobs_with_type.parquet\")\n",
    "tasks_with_type_df = spark.read.parquet(\"./intermediary_data/tasks_with_type.parquet\")"
   ]
  },
  {
   "cell_type": "code",
   "execution_count": 2,
   "outputs": [
    {
     "data": {
      "text/plain": "2465"
     },
     "execution_count": 2,
     "metadata": {},
     "output_type": "execute_result"
    }
   ],
   "source": [
    "job_ids_to_remove_df.count()"
   ],
   "metadata": {
    "collapsed": false,
    "ExecuteTime": {
     "end_time": "2023-06-16T12:24:32.803674900Z",
     "start_time": "2023-06-16T12:24:31.916259700Z"
    }
   }
  },
  {
   "cell_type": "code",
   "execution_count": 3,
   "outputs": [
    {
     "name": "stdout",
     "output_type": "stream",
     "text": [
      "root\n",
      " |-- collection_id: long (nullable = true)\n",
      "\n"
     ]
    }
   ],
   "source": [
    "job_ids_to_remove_df.printSchema()"
   ],
   "metadata": {
    "collapsed": false,
    "ExecuteTime": {
     "end_time": "2023-06-16T12:25:26.170683800Z",
     "start_time": "2023-06-16T12:25:26.154577800Z"
    }
   }
  },
  {
   "cell_type": "code",
   "execution_count": 4,
   "outputs": [
    {
     "data": {
      "text/plain": "1259254"
     },
     "execution_count": 4,
     "metadata": {},
     "output_type": "execute_result"
    }
   ],
   "source": [
    "jobs_with_type_df.count()"
   ],
   "metadata": {
    "collapsed": false,
    "ExecuteTime": {
     "end_time": "2023-06-16T12:25:28.530479600Z",
     "start_time": "2023-06-16T12:25:28.345008100Z"
    }
   }
  },
  {
   "cell_type": "code",
   "execution_count": 5,
   "outputs": [
    {
     "data": {
      "text/plain": "360176108"
     },
     "execution_count": 5,
     "metadata": {},
     "output_type": "execute_result"
    }
   ],
   "source": [
    "tasks_with_type_df.count()"
   ],
   "metadata": {
    "collapsed": false,
    "ExecuteTime": {
     "end_time": "2023-06-16T12:25:29.879757100Z",
     "start_time": "2023-06-16T12:25:29.668349300Z"
    }
   }
  },
  {
   "cell_type": "code",
   "execution_count": 6,
   "outputs": [],
   "source": [
    "jobs_with_type_df = jobs_with_type_df.join(job_ids_to_remove_df, 'collection_id', how='anti')\n",
    "tasks_with_type_df = tasks_with_type_df.join(job_ids_to_remove_df, 'collection_id', how='anti')"
   ],
   "metadata": {
    "collapsed": false,
    "ExecuteTime": {
     "end_time": "2023-06-16T12:25:33.642187400Z",
     "start_time": "2023-06-16T12:25:33.598736700Z"
    }
   }
  },
  {
   "cell_type": "code",
   "execution_count": 7,
   "outputs": [
    {
     "data": {
      "text/plain": "1256789"
     },
     "execution_count": 7,
     "metadata": {},
     "output_type": "execute_result"
    }
   ],
   "source": [
    "jobs_with_type_df.count()"
   ],
   "metadata": {
    "collapsed": false,
    "ExecuteTime": {
     "end_time": "2023-06-16T12:25:35.458577100Z",
     "start_time": "2023-06-16T12:25:34.807446800Z"
    }
   }
  },
  {
   "cell_type": "code",
   "execution_count": 8,
   "outputs": [
    {
     "data": {
      "text/plain": "359717767"
     },
     "execution_count": 8,
     "metadata": {},
     "output_type": "execute_result"
    }
   ],
   "source": [
    "tasks_with_type_df.count()"
   ],
   "metadata": {
    "collapsed": false,
    "ExecuteTime": {
     "end_time": "2023-06-16T12:25:57.481802700Z",
     "start_time": "2023-06-16T12:25:56.068837500Z"
    }
   }
  },
  {
   "cell_type": "markdown",
   "source": [
    "After filtering out the task that died because of parent job failure, 2.465 out of 1.259.254 jobs and 458.341 out of 360.176.108 tasks were removed."
   ],
   "metadata": {
    "collapsed": false
   }
  },
  {
   "cell_type": "code",
   "execution_count": 11,
   "outputs": [
    {
     "name": "stdout",
     "output_type": "stream",
     "text": [
      "root\n",
      " |-- scheduling_class: long (nullable = true)\n",
      " |-- priority: long (nullable = true)\n",
      " |-- cpus: double (nullable = true)\n",
      " |-- memory: double (nullable = true)\n",
      " |-- event_success: integer (nullable = true)\n",
      "\n",
      "root\n",
      " |-- scheduling_class: long (nullable = true)\n",
      " |-- priority: long (nullable = true)\n",
      " |-- cpus: double (nullable = true)\n",
      " |-- memory: double (nullable = true)\n",
      " |-- event_success: integer (nullable = true)\n",
      "\n"
     ]
    }
   ],
   "source": [
    "jobs_with_type_df = jobs_with_type_df.drop(*['collection_id', 'parent_collection_id'])\n",
    "tasks_with_type_df = tasks_with_type_df.drop(*['collection_id'])\n",
    "\n",
    "jobs_with_type_df.printSchema()\n",
    "tasks_with_type_df.printSchema()"
   ],
   "metadata": {
    "collapsed": false,
    "ExecuteTime": {
     "end_time": "2023-06-16T12:31:35.808793400Z",
     "start_time": "2023-06-16T12:31:35.778551900Z"
    }
   }
  },
  {
   "cell_type": "code",
   "execution_count": 12,
   "outputs": [
    {
     "data": {
      "text/plain": "531742"
     },
     "execution_count": 12,
     "metadata": {},
     "output_type": "execute_result"
    }
   ],
   "source": [
    "jobs_with_type_df.filter(jobs_with_type_df.event_success == 1).count()"
   ],
   "metadata": {
    "collapsed": false,
    "ExecuteTime": {
     "end_time": "2023-06-16T12:31:48.444940900Z",
     "start_time": "2023-06-16T12:31:48.088681300Z"
    }
   }
  },
  {
   "cell_type": "code",
   "execution_count": 16,
   "outputs": [
    {
     "data": {
      "text/plain": "18643465"
     },
     "execution_count": 16,
     "metadata": {},
     "output_type": "execute_result"
    }
   ],
   "source": [
    "tasks_with_type_df.filter(tasks_with_type_df.event_success == 1).count()"
   ],
   "metadata": {
    "collapsed": false,
    "ExecuteTime": {
     "end_time": "2023-06-16T12:32:50.838870600Z",
     "start_time": "2023-06-16T12:32:49.869009700Z"
    }
   }
  },
  {
   "cell_type": "code",
   "execution_count": 17,
   "outputs": [],
   "source": [
    "jobs_with_type_df.write.parquet(\"./result_data/jobs_with_type.parquet\")"
   ],
   "metadata": {
    "collapsed": false,
    "ExecuteTime": {
     "end_time": "2023-06-16T12:33:02.680331900Z",
     "start_time": "2023-06-16T12:33:01.658598900Z"
    }
   }
  },
  {
   "cell_type": "code",
   "execution_count": 18,
   "outputs": [],
   "source": [
    "tasks_with_type_df.write.parquet(\"./result_data/tasks_with_type.parquet\")"
   ],
   "metadata": {
    "collapsed": false,
    "ExecuteTime": {
     "end_time": "2023-06-16T12:33:16.782801600Z",
     "start_time": "2023-06-16T12:33:02.758640400Z"
    }
   }
  }
 ],
 "metadata": {
  "kernelspec": {
   "display_name": "Python 3",
   "language": "python",
   "name": "python3"
  },
  "language_info": {
   "codemirror_mode": {
    "name": "ipython",
    "version": 2
   },
   "file_extension": ".py",
   "mimetype": "text/x-python",
   "name": "python",
   "nbconvert_exporter": "python",
   "pygments_lexer": "ipython2",
   "version": "2.7.6"
  }
 },
 "nbformat": 4,
 "nbformat_minor": 0
}
