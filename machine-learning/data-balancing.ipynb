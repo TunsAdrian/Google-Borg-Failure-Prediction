{
 "cells": [
  {
   "cell_type": "code",
   "execution_count": 1,
   "metadata": {
    "collapsed": true,
    "ExecuteTime": {
     "end_time": "2023-06-16T17:40:09.705992400Z",
     "start_time": "2023-06-16T17:40:05.725215900Z"
    }
   },
   "outputs": [],
   "source": [
    "import findspark\n",
    "\n",
    "findspark.init()\n",
    "\n",
    "from pyspark import SparkContext\n",
    "from pyspark.sql import SparkSession\n",
    "\n",
    "spark = SparkSession.builder.appName('Failure Prediction on Google Borg Cluster Traces').master('local[*]').getOrCreate()\n",
    "SparkContext.setSystemProperty('spark.executor.memory', '2g')\n",
    "SparkContext.setSystemProperty('spark.driver.memory', '2g')\n",
    "\n",
    "jobs_train_unbalanced_df = spark.read.parquet(\"./training_data/jobs_data_unbalanced.parquet\")\n",
    "tasks_train_unbalanced_df = spark.read.parquet(\"./training_data/tasks_data_unbalanced.parquet\")"
   ]
  },
  {
   "cell_type": "code",
   "execution_count": 2,
   "outputs": [
    {
     "name": "stdout",
     "output_type": "stream",
     "text": [
      "543968\n",
      "398916\n",
      "255802001\n",
      "13987676\n"
     ]
    }
   ],
   "source": [
    "print(jobs_train_unbalanced_df.filter(jobs_train_unbalanced_df.event_success == 0).count())\n",
    "print(jobs_train_unbalanced_df.filter(jobs_train_unbalanced_df.event_success == 1).count())\n",
    "\n",
    "print(tasks_train_unbalanced_df.filter(tasks_train_unbalanced_df.event_success == 0).count())\n",
    "print(tasks_train_unbalanced_df.filter(tasks_train_unbalanced_df.event_success == 1).count())"
   ],
   "metadata": {
    "collapsed": false,
    "ExecuteTime": {
     "end_time": "2023-06-16T17:40:12.061304100Z",
     "start_time": "2023-06-16T17:40:09.705992400Z"
    }
   }
  },
  {
   "cell_type": "code",
   "execution_count": 4,
   "outputs": [
    {
     "name": "stderr",
     "output_type": "stream",
     "text": [
      "C:\\Programming\\Apache-Spark\\spark-3.0.0-bin-hadoop3.2\\python\\pyspark\\sql\\pandas\\conversion.py:327: FutureWarning: iteritems is deprecated and will be removed in a future version. Use .items instead.\n",
      "  for column, series in pdf.iteritems():\n"
     ]
    }
   ],
   "source": [
    "import pandas as pd\n",
    "from imblearn.over_sampling import SMOTE\n",
    "\n",
    "pandas_df = jobs_train_unbalanced_df.toPandas()\n",
    "\n",
    "x = pandas_df.drop('event_success', axis=1)\n",
    "y = pandas_df['event_success']\n",
    "\n",
    "smote = SMOTE(random_state=13)\n",
    "x_resampled, y_resampled = smote.fit_resample(x, y)\n",
    "\n",
    "jobs_train_unbalanced_df = spark.createDataFrame(pd.concat([x_resampled, y_resampled], axis=1))"
   ],
   "metadata": {
    "collapsed": false,
    "ExecuteTime": {
     "end_time": "2023-06-16T17:40:52.660976Z",
     "start_time": "2023-06-16T17:40:30.303141200Z"
    }
   }
  },
  {
   "cell_type": "code",
   "execution_count": 5,
   "outputs": [],
   "source": [
    "failed_tasks_df = tasks_train_unbalanced_df.filter(tasks_train_unbalanced_df.event_success == 0)\n",
    "success_tasks_df = tasks_train_unbalanced_df.filter(tasks_train_unbalanced_df.event_success == 1)\n",
    "\n",
    "sample_fraction = float(success_tasks_df.count()) / float(failed_tasks_df.count())\n",
    "sampled_majority = failed_tasks_df.sample(fraction=sample_fraction, seed=13)\n",
    "\n",
    "tasks_train_unbalanced_df = success_tasks_df.union(sampled_majority)"
   ],
   "metadata": {
    "collapsed": false,
    "ExecuteTime": {
     "end_time": "2023-06-16T17:41:56.723300700Z",
     "start_time": "2023-06-16T17:41:55.987345500Z"
    }
   }
  },
  {
   "cell_type": "code",
   "execution_count": 6,
   "outputs": [
    {
     "name": "stdout",
     "output_type": "stream",
     "text": [
      "543968\n",
      "543968\n",
      "13988439\n",
      "13987676\n"
     ]
    }
   ],
   "source": [
    "print(jobs_train_unbalanced_df.filter(jobs_train_unbalanced_df.event_success == 0).count())\n",
    "print(jobs_train_unbalanced_df.filter(jobs_train_unbalanced_df.event_success == 1).count())\n",
    "\n",
    "print(tasks_train_unbalanced_df.filter(tasks_train_unbalanced_df.event_success == 0).count())\n",
    "print(tasks_train_unbalanced_df.filter(tasks_train_unbalanced_df.event_success == 1).count())"
   ],
   "metadata": {
    "collapsed": false,
    "ExecuteTime": {
     "end_time": "2023-06-16T17:42:12.976908500Z",
     "start_time": "2023-06-16T17:41:58.873471800Z"
    }
   }
  },
  {
   "cell_type": "code",
   "execution_count": 7,
   "outputs": [],
   "source": [
    "jobs_train_unbalanced_df.write.parquet(\"./training_data/jobs_data.parquet\")\n",
    "tasks_train_unbalanced_df.write.parquet(\"./training_data/tasks_data.parquet\")"
   ],
   "metadata": {
    "collapsed": false,
    "ExecuteTime": {
     "end_time": "2023-06-16T17:42:33.768315900Z",
     "start_time": "2023-06-16T17:42:23.723300400Z"
    }
   }
  }
 ],
 "metadata": {
  "kernelspec": {
   "display_name": "Python 3",
   "language": "python",
   "name": "python3"
  },
  "language_info": {
   "codemirror_mode": {
    "name": "ipython",
    "version": 2
   },
   "file_extension": ".py",
   "mimetype": "text/x-python",
   "name": "python",
   "nbconvert_exporter": "python",
   "pygments_lexer": "ipython2",
   "version": "2.7.6"
  }
 },
 "nbformat": 4,
 "nbformat_minor": 0
}
